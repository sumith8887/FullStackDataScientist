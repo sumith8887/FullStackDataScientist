{
 "cells": [
  {
   "cell_type": "code",
   "execution_count": null,
   "id": "72722e15",
   "metadata": {
    "vscode": {
     "languageId": "plaintext"
    }
   },
   "outputs": [],
   "source": [
    "def is_prime(num):\n",
    "counter=0\n",
    "    if(num>=2):\n",
    "        for(i in range(2,num+1)):\n",
    "            if(num%i==0):\n",
    "                counter++\n",
    "        if(counter<2):\n",
    "            return True;\n",
    "        else:\n",
    "            return False;\n",
    "\n",
    "n=int(input())\n",
    "primes_list=[]\n",
    "for i in range(2,n+1):\n",
    "    is_prime_check=is_prime(i)\n",
    "    if(is_prime_check):\n",
    "        primes_list+=[i]\n",
    "print(primes_list)\n"
   ]
  }
 ],
 "metadata": {
  "language_info": {
   "name": "python"
  }
 },
 "nbformat": 4,
 "nbformat_minor": 5
}
