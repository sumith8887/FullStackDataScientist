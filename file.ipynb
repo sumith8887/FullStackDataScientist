{
 "cells": [
  {
   "cell_type": "code",
   "execution_count": 1,
   "metadata": {},
   "outputs": [
    {
     "name": "stdout",
     "output_type": "stream",
     "text": [
      "Hello World!\n"
     ]
    }
   ],
   "source": [
    "print(\"Hello World!\")"
   ]
  },
  {
   "cell_type": "code",
   "execution_count": 3,
   "metadata": {},
   "outputs": [
    {
     "name": "stdout",
     "output_type": "stream",
     "text": [
      "a = 3, b = 5\n"
     ]
    }
   ],
   "source": [
    "a=(input(\"Enter the first value : \"))\n",
    "b=input(\"Enter the second value : \")\n",
    "(a,b)=(b,a)\n",
    "print(\"a = \"+a+\", b = \"+b)"
   ]
  },
  {
   "cell_type": "code",
   "execution_count": 13,
   "metadata": {},
   "outputs": [
    {
     "name": "stdout",
     "output_type": "stream",
     "text": [
      "dlroW olleH\n"
     ]
    }
   ],
   "source": [
    "s=\"Hello World\"\n",
    "r=\"\"\n",
    "length=len(s)\n",
    "for i in range(1,length+1):\n",
    "    r=r+s[length-i]\n",
    "print(r)"
   ]
  },
  {
   "cell_type": "code",
   "execution_count": 28,
   "metadata": {},
   "outputs": [
    {
     "name": "stdout",
     "output_type": "stream",
     "text": [
      "256 is not an armstrong number\n"
     ]
    }
   ],
   "source": [
    "a=int(input(\"Enter the amount : \"))\n",
    "x=a\n",
    "length=len(str(a))\n",
    "s=0\n",
    "result=0\n",
    "while(a>0):\n",
    "    rem=a%10\n",
    "    a=a//10\n",
    "    s=(rem**length)\n",
    "    result=result+s\n",
    "if(x==result):\n",
    "    print(x,\"is an armstrong number\")\n",
    "else:\n",
    "    print(x,\"is not an armstrong number\")\n",
    "    "
   ]
  },
  {
   "cell_type": "code",
   "execution_count": 30,
   "metadata": {},
   "outputs": [
    {
     "name": "stdout",
     "output_type": "stream",
     "text": [
      "Number of vowels = 6\n",
      "Number of consonents = 14\n"
     ]
    }
   ],
   "source": [
    "s=input(\"Enter the sentense : \")\n",
    "vcount=0\n",
    "ccount=0\n",
    "for i in s:\n",
    "    if(i in [\"a\",\"e\",\"i\",\"o\",\"u\"]):\n",
    "        vcount+=1\n",
    "    else:\n",
    "        ccount+=1\n",
    "print(\"Number of vowels = \"+str(vcount))\n",
    "print(\"Number of consonents = \"+str(ccount))"
   ]
  },
  {
   "cell_type": "code",
   "execution_count": 31,
   "metadata": {},
   "outputs": [
    {
     "name": "stdout",
     "output_type": "stream",
     "text": [
      "5 * 1 = 5\n",
      "5 * 2 = 10\n",
      "5 * 3 = 15\n",
      "5 * 4 = 20\n",
      "5 * 5 = 25\n",
      "5 * 6 = 30\n",
      "5 * 7 = 35\n",
      "5 * 8 = 40\n",
      "5 * 9 = 45\n",
      "5 * 10 = 50\n"
     ]
    }
   ],
   "source": [
    "a=int(input(\"Enter the number : \"))\n",
    "for i in range(1,11):\n",
    "    print(a,\"*\",i,\"=\",(a*i))"
   ]
  },
  {
   "cell_type": "code",
   "execution_count": 33,
   "metadata": {},
   "outputs": [
    {
     "name": "stdout",
     "output_type": "stream",
     "text": [
      "2024 is a leap year\n"
     ]
    }
   ],
   "source": [
    "year=int(input(\"Enter the Year : \"))\n",
    "if(year%4==0):\n",
    "    if(year%100==0):\n",
    "        if(year%400==0):\n",
    "            print(year,\"is a leap year\")\n",
    "        else:\n",
    "            print(year,\"is not a leap year\")\n",
    "    else:\n",
    "        print(year,\"is a leap year\")\n",
    "else:\n",
    "    print(year,\"is not a leap year\")"
   ]
  },
  {
   "cell_type": "code",
   "execution_count": 36,
   "metadata": {},
   "outputs": [
    {
     "name": "stdout",
     "output_type": "stream",
     "text": [
      "5\n"
     ]
    }
   ],
   "source": [
    "l=list(map(int,input(\"Enter the list : \").split(\",\")))\n",
    "m=max(l)\n",
    "print(m)"
   ]
  },
  {
   "cell_type": "code",
   "execution_count": 38,
   "metadata": {},
   "outputs": [
    {
     "name": "stdout",
     "output_type": "stream",
     "text": [
      "madam is a Palindrome\n"
     ]
    }
   ],
   "source": [
    "s=input(\"Enter the string : \")\n",
    "if(s==s[::-1]):\n",
    "    print(s,\"is a Palindrome\")\n",
    "else:\n",
    "    print(s,\"is not a palindrome\")"
   ]
  },
  {
   "cell_type": "code",
   "execution_count": 39,
   "metadata": {},
   "outputs": [
    {
     "data": {
      "text/plain": [
       "120"
      ]
     },
     "execution_count": 39,
     "metadata": {},
     "output_type": "execute_result"
    }
   ],
   "source": [
    "def fact(n):\n",
    "    if(n==0 or n==1):\n",
    "        return 1\n",
    "    else:\n",
    "        return n*fact(n-1)\n",
    "\n",
    "n=int(input(\"Enter the number\"))\n",
    "fact(n)"
   ]
  }
 ],
 "metadata": {
  "kernelspec": {
   "display_name": "Python 3",
   "language": "python",
   "name": "python3"
  },
  "language_info": {
   "codemirror_mode": {
    "name": "ipython",
    "version": 3
   },
   "file_extension": ".py",
   "mimetype": "text/x-python",
   "name": "python",
   "nbconvert_exporter": "python",
   "pygments_lexer": "ipython3",
   "version": "3.11.0"
  }
 },
 "nbformat": 4,
 "nbformat_minor": 2
}
